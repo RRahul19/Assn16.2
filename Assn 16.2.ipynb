{
 "cells": [
  {
   "cell_type": "code",
   "execution_count": 5,
   "metadata": {},
   "outputs": [
    {
     "name": "stdout",
     "output_type": "stream",
     "text": [
      "The variance in height of trees in California is 6220\n"
     ]
    }
   ],
   "source": [
    "#Find the variance for the following set of data representing trees in California (heights in feet): 3, 21, 98, 203, 17, 9\n",
    "\n",
    "import statistics\n",
    "\n",
    "TreesHeight = [3, 21, 98, 203, 17, 9]\n",
    "\n",
    "print(\"The variance in height of trees in California is %s\" %(round(statistics.variance(TreesHeight))))"
   ]
  },
  {
   "cell_type": "code",
   "execution_count": null,
   "metadata": {},
   "outputs": [],
   "source": []
  }
 ],
 "metadata": {
  "kernelspec": {
   "display_name": "Python 3",
   "language": "python",
   "name": "python3"
  },
  "language_info": {
   "codemirror_mode": {
    "name": "ipython",
    "version": 3
   },
   "file_extension": ".py",
   "mimetype": "text/x-python",
   "name": "python",
   "nbconvert_exporter": "python",
   "pygments_lexer": "ipython3",
   "version": "3.6.4"
  }
 },
 "nbformat": 4,
 "nbformat_minor": 2
}
